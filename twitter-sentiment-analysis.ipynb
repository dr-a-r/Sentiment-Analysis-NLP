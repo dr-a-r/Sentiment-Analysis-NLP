{
 "cells": [
  {
   "cell_type": "code",
   "execution_count": 1,
   "id": "900fff4c",
   "metadata": {
    "execution": {
     "iopub.execute_input": "2025-01-02T13:56:52.033209Z",
     "iopub.status.busy": "2025-01-02T13:56:52.032603Z",
     "iopub.status.idle": "2025-01-02T13:56:55.594672Z",
     "shell.execute_reply": "2025-01-02T13:56:55.592775Z"
    },
    "id": "50_hzq7Q8x5M",
    "outputId": "26113eec-7645-4509-fdd5-bc2e0b5a76ee",
    "papermill": {
     "duration": 3.571775,
     "end_time": "2025-01-02T13:56:55.597639",
     "exception": false,
     "start_time": "2025-01-02T13:56:52.025864",
     "status": "completed"
    },
    "tags": []
   },
   "outputs": [
    {
     "name": "stdout",
     "output_type": "stream",
     "text": [
      "[nltk_data] Downloading package punkt to /usr/share/nltk_data...\n",
      "[nltk_data]   Package punkt is already up-to-date!\n",
      "[nltk_data] Downloading package wordnet to /usr/share/nltk_data...\n",
      "[nltk_data]   Package wordnet is already up-to-date!\n",
      "[nltk_data] Downloading package stopwords to /usr/share/nltk_data...\n",
      "[nltk_data]   Package stopwords is already up-to-date!\n",
      "[nltk_data] Downloading package averaged_perceptron_tagger to\n",
      "[nltk_data]     /usr/share/nltk_data...\n",
      "[nltk_data]   Package averaged_perceptron_tagger is already up-to-\n",
      "[nltk_data]       date!\n",
      "Archive:  /usr/share/nltk_data/corpora/wordnet.zip\r\n",
      "   creating: /usr/share/nltk_data/corpora/wordnet/\r\n",
      "  inflating: /usr/share/nltk_data/corpora/wordnet/lexnames  \r\n",
      "  inflating: /usr/share/nltk_data/corpora/wordnet/data.verb  \r\n",
      "  inflating: /usr/share/nltk_data/corpora/wordnet/index.adv  \r\n",
      "  inflating: /usr/share/nltk_data/corpora/wordnet/adv.exc  \r\n",
      "  inflating: /usr/share/nltk_data/corpora/wordnet/index.verb  \r\n",
      "  inflating: /usr/share/nltk_data/corpora/wordnet/cntlist.rev  \r\n",
      "  inflating: /usr/share/nltk_data/corpora/wordnet/data.adj  \r\n",
      "  inflating: /usr/share/nltk_data/corpora/wordnet/index.adj  \r\n",
      "  inflating: /usr/share/nltk_data/corpora/wordnet/LICENSE  \r\n",
      "  inflating: /usr/share/nltk_data/corpora/wordnet/citation.bib  \r\n",
      "  inflating: /usr/share/nltk_data/corpora/wordnet/noun.exc  \r\n",
      "  inflating: /usr/share/nltk_data/corpora/wordnet/verb.exc  \r\n",
      "  inflating: /usr/share/nltk_data/corpora/wordnet/README  \r\n",
      "  inflating: /usr/share/nltk_data/corpora/wordnet/index.sense  \r\n",
      "  inflating: /usr/share/nltk_data/corpora/wordnet/data.noun  \r\n",
      "  inflating: /usr/share/nltk_data/corpora/wordnet/data.adv  \r\n",
      "  inflating: /usr/share/nltk_data/corpora/wordnet/index.noun  \r\n",
      "  inflating: /usr/share/nltk_data/corpora/wordnet/adj.exc  \r\n"
     ]
    }
   ],
   "source": [
    "# Importing Libraries\n",
    "\n",
    "import pandas as pd\n",
    "import numpy as np\n",
    "import matplotlib.pyplot as plt\n",
    "import seaborn as sns\n",
    "\n",
    "import re\n",
    "import nltk\n",
    "resources = ['punkt', 'wordnet','stopwords','averaged_perceptron_tagger']\n",
    "nltk.download(resources)\n",
    "!unzip /usr/share/nltk_data/corpora/wordnet.zip -d /usr/share/nltk_data/corpora/"
   ]
  },
  {
   "cell_type": "code",
   "execution_count": 2,
   "id": "3e2c4272",
   "metadata": {
    "execution": {
     "iopub.execute_input": "2025-01-02T13:56:55.611791Z",
     "iopub.status.busy": "2025-01-02T13:56:55.610993Z",
     "iopub.status.idle": "2025-01-02T13:56:56.416180Z",
     "shell.execute_reply": "2025-01-02T13:56:56.414742Z"
    },
    "id": "OrYemjgJ8x5O",
    "outputId": "6f7f7b13-e04e-45c8-9ca7-790c2b75823b",
    "papermill": {
     "duration": 0.814573,
     "end_time": "2025-01-02T13:56:56.418438",
     "exception": false,
     "start_time": "2025-01-02T13:56:55.603865",
     "status": "completed"
    },
    "tags": []
   },
   "outputs": [
    {
     "data": {
      "text/html": [
       "<div>\n",
       "<style scoped>\n",
       "    .dataframe tbody tr th:only-of-type {\n",
       "        vertical-align: middle;\n",
       "    }\n",
       "\n",
       "    .dataframe tbody tr th {\n",
       "        vertical-align: top;\n",
       "    }\n",
       "\n",
       "    .dataframe thead th {\n",
       "        text-align: right;\n",
       "    }\n",
       "</style>\n",
       "<table border=\"1\" class=\"dataframe\">\n",
       "  <thead>\n",
       "    <tr style=\"text-align: right;\">\n",
       "      <th></th>\n",
       "      <th>clean_text</th>\n",
       "      <th>category</th>\n",
       "    </tr>\n",
       "  </thead>\n",
       "  <tbody>\n",
       "    <tr>\n",
       "      <th>0</th>\n",
       "      <td>when modi promised “minimum government maximum...</td>\n",
       "      <td>-1.0</td>\n",
       "    </tr>\n",
       "    <tr>\n",
       "      <th>1</th>\n",
       "      <td>talk all the nonsense and continue all the dra...</td>\n",
       "      <td>0.0</td>\n",
       "    </tr>\n",
       "    <tr>\n",
       "      <th>2</th>\n",
       "      <td>what did just say vote for modi  welcome bjp t...</td>\n",
       "      <td>1.0</td>\n",
       "    </tr>\n",
       "    <tr>\n",
       "      <th>3</th>\n",
       "      <td>asking his supporters prefix chowkidar their n...</td>\n",
       "      <td>1.0</td>\n",
       "    </tr>\n",
       "    <tr>\n",
       "      <th>4</th>\n",
       "      <td>answer who among these the most powerful world...</td>\n",
       "      <td>1.0</td>\n",
       "    </tr>\n",
       "  </tbody>\n",
       "</table>\n",
       "</div>"
      ],
      "text/plain": [
       "                                          clean_text  category\n",
       "0  when modi promised “minimum government maximum...      -1.0\n",
       "1  talk all the nonsense and continue all the dra...       0.0\n",
       "2  what did just say vote for modi  welcome bjp t...       1.0\n",
       "3  asking his supporters prefix chowkidar their n...       1.0\n",
       "4  answer who among these the most powerful world...       1.0"
      ]
     },
     "execution_count": 2,
     "metadata": {},
     "output_type": "execute_result"
    }
   ],
   "source": [
    "df = pd.read_csv('/kaggle/input/twitter-sentiment-dataset/Twitter_Data.csv')\n",
    "df = df[0:2000]\n",
    "df.head()"
   ]
  },
  {
   "cell_type": "code",
   "execution_count": 3,
   "id": "50361bdc",
   "metadata": {
    "execution": {
     "iopub.execute_input": "2025-01-02T13:56:56.430707Z",
     "iopub.status.busy": "2025-01-02T13:56:56.430291Z",
     "iopub.status.idle": "2025-01-02T13:56:56.436311Z",
     "shell.execute_reply": "2025-01-02T13:56:56.435315Z"
    },
    "id": "RXXgdv7V8x5O",
    "outputId": "63b44463-f72e-4f88-bd2d-dec8e1a3a107",
    "papermill": {
     "duration": 0.013863,
     "end_time": "2025-01-02T13:56:56.437866",
     "exception": false,
     "start_time": "2025-01-02T13:56:56.424003",
     "status": "completed"
    },
    "tags": []
   },
   "outputs": [
    {
     "data": {
      "text/plain": [
       "(2000, 2)"
      ]
     },
     "execution_count": 3,
     "metadata": {},
     "output_type": "execute_result"
    }
   ],
   "source": [
    "df.shape"
   ]
  },
  {
   "cell_type": "code",
   "execution_count": 4,
   "id": "323b6ec3",
   "metadata": {
    "execution": {
     "iopub.execute_input": "2025-01-02T13:56:56.449953Z",
     "iopub.status.busy": "2025-01-02T13:56:56.449578Z",
     "iopub.status.idle": "2025-01-02T13:56:56.458884Z",
     "shell.execute_reply": "2025-01-02T13:56:56.457746Z"
    },
    "id": "775FNBqC8x5P",
    "outputId": "0899bafd-0098-43ae-b983-9a6e002c53bf",
    "papermill": {
     "duration": 0.017225,
     "end_time": "2025-01-02T13:56:56.460546",
     "exception": false,
     "start_time": "2025-01-02T13:56:56.443321",
     "status": "completed"
    },
    "tags": []
   },
   "outputs": [
    {
     "data": {
      "text/plain": [
       "clean_text    1\n",
       "category      0\n",
       "dtype: int64"
      ]
     },
     "execution_count": 4,
     "metadata": {},
     "output_type": "execute_result"
    }
   ],
   "source": [
    "df.isnull().sum()"
   ]
  },
  {
   "cell_type": "code",
   "execution_count": 5,
   "id": "5ed7822d",
   "metadata": {
    "execution": {
     "iopub.execute_input": "2025-01-02T13:56:56.472436Z",
     "iopub.status.busy": "2025-01-02T13:56:56.472026Z",
     "iopub.status.idle": "2025-01-02T13:56:56.484322Z",
     "shell.execute_reply": "2025-01-02T13:56:56.483107Z"
    },
    "id": "1BO3LEii8x5Q",
    "outputId": "514afb88-7454-4bd3-fb29-4b16806836ab",
    "papermill": {
     "duration": 0.020274,
     "end_time": "2025-01-02T13:56:56.486087",
     "exception": false,
     "start_time": "2025-01-02T13:56:56.465813",
     "status": "completed"
    },
    "tags": []
   },
   "outputs": [
    {
     "data": {
      "text/html": [
       "<div>\n",
       "<style scoped>\n",
       "    .dataframe tbody tr th:only-of-type {\n",
       "        vertical-align: middle;\n",
       "    }\n",
       "\n",
       "    .dataframe tbody tr th {\n",
       "        vertical-align: top;\n",
       "    }\n",
       "\n",
       "    .dataframe thead th {\n",
       "        text-align: right;\n",
       "    }\n",
       "</style>\n",
       "<table border=\"1\" class=\"dataframe\">\n",
       "  <thead>\n",
       "    <tr style=\"text-align: right;\">\n",
       "      <th></th>\n",
       "      <th>clean_text</th>\n",
       "      <th>category</th>\n",
       "    </tr>\n",
       "  </thead>\n",
       "  <tbody>\n",
       "    <tr>\n",
       "      <th>148</th>\n",
       "      <td>NaN</td>\n",
       "      <td>0.0</td>\n",
       "    </tr>\n",
       "  </tbody>\n",
       "</table>\n",
       "</div>"
      ],
      "text/plain": [
       "    clean_text  category\n",
       "148        NaN       0.0"
      ]
     },
     "execution_count": 5,
     "metadata": {},
     "output_type": "execute_result"
    }
   ],
   "source": [
    "null_rows = df[df.isnull().any(axis=1)]\n",
    "null_rows"
   ]
  },
  {
   "cell_type": "code",
   "execution_count": 6,
   "id": "880a36f6",
   "metadata": {
    "execution": {
     "iopub.execute_input": "2025-01-02T13:56:56.499485Z",
     "iopub.status.busy": "2025-01-02T13:56:56.499024Z",
     "iopub.status.idle": "2025-01-02T13:56:56.508383Z",
     "shell.execute_reply": "2025-01-02T13:56:56.507264Z"
    },
    "id": "eUovRuhZ8x5R",
    "outputId": "a813502c-04f0-46df-f77c-a19beb87529d",
    "papermill": {
     "duration": 0.018572,
     "end_time": "2025-01-02T13:56:56.510662",
     "exception": false,
     "start_time": "2025-01-02T13:56:56.492090",
     "status": "completed"
    },
    "tags": []
   },
   "outputs": [
    {
     "data": {
      "text/plain": [
       "(1999, 2)"
      ]
     },
     "execution_count": 6,
     "metadata": {},
     "output_type": "execute_result"
    }
   ],
   "source": [
    "df = df.dropna()\n",
    "df.shape\n"
   ]
  },
  {
   "cell_type": "code",
   "execution_count": 7,
   "id": "7a7daf6d",
   "metadata": {
    "execution": {
     "iopub.execute_input": "2025-01-02T13:56:56.524046Z",
     "iopub.status.busy": "2025-01-02T13:56:56.523689Z",
     "iopub.status.idle": "2025-01-02T13:56:56.531277Z",
     "shell.execute_reply": "2025-01-02T13:56:56.530071Z"
    },
    "id": "GbS_DGAp8x5S",
    "outputId": "14858435-9600-43a6-cbc7-e95ed9a28152",
    "papermill": {
     "duration": 0.016456,
     "end_time": "2025-01-02T13:56:56.533318",
     "exception": false,
     "start_time": "2025-01-02T13:56:56.516862",
     "status": "completed"
    },
    "tags": []
   },
   "outputs": [
    {
     "data": {
      "text/plain": [
       "clean_text    0\n",
       "category      0\n",
       "dtype: int64"
      ]
     },
     "execution_count": 7,
     "metadata": {},
     "output_type": "execute_result"
    }
   ],
   "source": [
    "df.isnull().sum()"
   ]
  },
  {
   "cell_type": "code",
   "execution_count": 8,
   "id": "ac4e1134",
   "metadata": {
    "execution": {
     "iopub.execute_input": "2025-01-02T13:56:56.546991Z",
     "iopub.status.busy": "2025-01-02T13:56:56.546665Z",
     "iopub.status.idle": "2025-01-02T13:56:56.874676Z",
     "shell.execute_reply": "2025-01-02T13:56:56.873491Z"
    },
    "id": "tbY5yjhC8x5S",
    "outputId": "ba2c06e9-7061-4a95-a564-e66e773c3871",
    "papermill": {
     "duration": 0.336879,
     "end_time": "2025-01-02T13:56:56.876506",
     "exception": false,
     "start_time": "2025-01-02T13:56:56.539627",
     "status": "completed"
    },
    "tags": []
   },
   "outputs": [
    {
     "name": "stderr",
     "output_type": "stream",
     "text": [
      "/usr/local/lib/python3.10/dist-packages/seaborn/_oldcore.py:1119: FutureWarning: use_inf_as_na option is deprecated and will be removed in a future version. Convert inf values to NaN before operating instead.\n",
      "  with pd.option_context('mode.use_inf_as_na', True):\n"
     ]
    },
    {
     "data": {
      "text/plain": [
       "<Axes: xlabel='category', ylabel='Count'>"
      ]
     },
     "execution_count": 8,
     "metadata": {},
     "output_type": "execute_result"
    },
    {
     "data": {
      "image/png": "[encoded data removed]",
      "text/plain": [
       "<Figure size 640x480 with 1 Axes>"
      ]
     },
     "metadata": {},
     "output_type": "display_data"
    }
   ],
   "source": [
    "X = df.clean_text\n",
    "y = df.category\n",
    "\n",
    "sns.histplot(y)"
   ]
  },
  {
   "cell_type": "code",
   "execution_count": 9,
   "id": "1e405b37",
   "metadata": {
    "execution": {
     "iopub.execute_input": "2025-01-02T13:56:56.890589Z",
     "iopub.status.busy": "2025-01-02T13:56:56.890160Z",
     "iopub.status.idle": "2025-01-02T13:56:56.904415Z",
     "shell.execute_reply": "2025-01-02T13:56:56.903017Z"
    },
    "id": "lGDNpt048x5S",
    "outputId": "5a5dc87d-a418-45ca-dc30-829bf02f01c0",
    "papermill": {
     "duration": 0.02371,
     "end_time": "2025-01-02T13:56:56.906551",
     "exception": false,
     "start_time": "2025-01-02T13:56:56.882841",
     "status": "completed"
    },
    "tags": []
   },
   "outputs": [
    {
     "data": {
      "text/plain": [
       "0       when modi promised minimum government maximum ...\n",
       "1       talk all the nonsense and continue all the dra...\n",
       "2       what did just say vote for modi  welcome bjp t...\n",
       "3       asking his supporters prefix chowkidar their n...\n",
       "4       answer who among these the most powerful world...\n",
       "                              ...                        \n",
       "1995    eam have decided not criticise bullshits befor...\n",
       "1996    modi meetings andhra pradesh march april modi ...\n",
       "1997    one vote can make all the difference anil kapo...\n",
       "1998         yes want see this movie great narendra modi \n",
       "1999    documents reveal modi and javadekars war india...\n",
       "Name: clean_text, Length: 1999, dtype: object"
      ]
     },
     "execution_count": 9,
     "metadata": {},
     "output_type": "execute_result"
    }
   ],
   "source": [
    "# To clean the text of non alphabets\n",
    "\n",
    "X = X.str.replace(r'[^a-zA-Z\\s]', '', regex=True)\n",
    "X"
   ]
  },
  {
   "cell_type": "code",
   "execution_count": 10,
   "id": "2bbec8f3",
   "metadata": {
    "execution": {
     "iopub.execute_input": "2025-01-02T13:56:56.922191Z",
     "iopub.status.busy": "2025-01-02T13:56:56.921750Z",
     "iopub.status.idle": "2025-01-02T13:56:57.038225Z",
     "shell.execute_reply": "2025-01-02T13:56:57.036940Z"
    },
    "id": "0nnqXKV-8x5U",
    "outputId": "a756576b-8473-4439-a489-baa308a108bb",
    "papermill": {
     "duration": 0.126435,
     "end_time": "2025-01-02T13:56:57.040069",
     "exception": false,
     "start_time": "2025-01-02T13:56:56.913634",
     "status": "completed"
    },
    "tags": []
   },
   "outputs": [
    {
     "data": {
      "text/html": [
       "<div>\n",
       "<style scoped>\n",
       "    .dataframe tbody tr th:only-of-type {\n",
       "        vertical-align: middle;\n",
       "    }\n",
       "\n",
       "    .dataframe tbody tr th {\n",
       "        vertical-align: top;\n",
       "    }\n",
       "\n",
       "    .dataframe thead th {\n",
       "        text-align: right;\n",
       "    }\n",
       "</style>\n",
       "<table border=\"1\" class=\"dataframe\">\n",
       "  <thead>\n",
       "    <tr style=\"text-align: right;\">\n",
       "      <th></th>\n",
       "      <th>clean_text</th>\n",
       "      <th>category</th>\n",
       "      <th>cleaned_text</th>\n",
       "    </tr>\n",
       "  </thead>\n",
       "  <tbody>\n",
       "    <tr>\n",
       "      <th>0</th>\n",
       "      <td>when modi promised “minimum government maximum...</td>\n",
       "      <td>-1.0</td>\n",
       "      <td>modi promised minimum government maximum gover...</td>\n",
       "    </tr>\n",
       "    <tr>\n",
       "      <th>1</th>\n",
       "      <td>talk all the nonsense and continue all the dra...</td>\n",
       "      <td>0.0</td>\n",
       "      <td>talk nonsense continue drama vote modi</td>\n",
       "    </tr>\n",
       "    <tr>\n",
       "      <th>2</th>\n",
       "      <td>what did just say vote for modi  welcome bjp t...</td>\n",
       "      <td>1.0</td>\n",
       "      <td>say vote modi welcome bjp told rahul main camp...</td>\n",
       "    </tr>\n",
       "    <tr>\n",
       "      <th>3</th>\n",
       "      <td>asking his supporters prefix chowkidar their n...</td>\n",
       "      <td>1.0</td>\n",
       "      <td>asking supporters prefix chowkidar names modi ...</td>\n",
       "    </tr>\n",
       "    <tr>\n",
       "      <th>4</th>\n",
       "      <td>answer who among these the most powerful world...</td>\n",
       "      <td>1.0</td>\n",
       "      <td>answer among powerful world leader today trump...</td>\n",
       "    </tr>\n",
       "  </tbody>\n",
       "</table>\n",
       "</div>"
      ],
      "text/plain": [
       "                                          clean_text  category  \\\n",
       "0  when modi promised “minimum government maximum...      -1.0   \n",
       "1  talk all the nonsense and continue all the dra...       0.0   \n",
       "2  what did just say vote for modi  welcome bjp t...       1.0   \n",
       "3  asking his supporters prefix chowkidar their n...       1.0   \n",
       "4  answer who among these the most powerful world...       1.0   \n",
       "\n",
       "                                        cleaned_text  \n",
       "0  modi promised minimum government maximum gover...  \n",
       "1             talk nonsense continue drama vote modi  \n",
       "2  say vote modi welcome bjp told rahul main camp...  \n",
       "3  asking supporters prefix chowkidar names modi ...  \n",
       "4  answer among powerful world leader today trump...  "
      ]
     },
     "execution_count": 10,
     "metadata": {},
     "output_type": "execute_result"
    }
   ],
   "source": [
    "# removing numbers and special characters\n",
    "df['cleaned_text'] = df['clean_text'].str.replace('[^a-zA-Z\\s]','',regex=True)\n",
    "\n",
    "from nltk.corpus import stopwords\n",
    "\n",
    "stop_words = stopwords.words('english')\n",
    "\n",
    "def remove_stopwords(sentence):\n",
    "    sentence = sentence.lower()\n",
    "    words = sentence.split()\n",
    "    fil_words = [word for word in words if word not in stop_words]\n",
    "    new_sentence = ' '.join(fil_words)\n",
    "    return new_sentence\n",
    "\n",
    "df['cleaned_text'] = df['cleaned_text'].apply(remove_stopwords)\n",
    "df.head()"
   ]
  },
  {
   "cell_type": "code",
   "execution_count": 11,
   "id": "8a47adb8",
   "metadata": {
    "execution": {
     "iopub.execute_input": "2025-01-02T13:56:57.054605Z",
     "iopub.status.busy": "2025-01-02T13:56:57.054276Z",
     "iopub.status.idle": "2025-01-02T13:56:57.324236Z",
     "shell.execute_reply": "2025-01-02T13:56:57.323200Z"
    },
    "id": "iR4CeC2iDttk",
    "outputId": "30686a6c-5f48-4740-f5d8-d781e1192faf",
    "papermill": {
     "duration": 0.27907,
     "end_time": "2025-01-02T13:56:57.326053",
     "exception": false,
     "start_time": "2025-01-02T13:56:57.046983",
     "status": "completed"
    },
    "tags": []
   },
   "outputs": [
    {
     "data": {
      "text/html": [
       "<div>\n",
       "<style scoped>\n",
       "    .dataframe tbody tr th:only-of-type {\n",
       "        vertical-align: middle;\n",
       "    }\n",
       "\n",
       "    .dataframe tbody tr th {\n",
       "        vertical-align: top;\n",
       "    }\n",
       "\n",
       "    .dataframe thead th {\n",
       "        text-align: right;\n",
       "    }\n",
       "</style>\n",
       "<table border=\"1\" class=\"dataframe\">\n",
       "  <thead>\n",
       "    <tr style=\"text-align: right;\">\n",
       "      <th></th>\n",
       "      <th>clean_text</th>\n",
       "      <th>category</th>\n",
       "      <th>cleaned_text</th>\n",
       "      <th>tokens</th>\n",
       "    </tr>\n",
       "  </thead>\n",
       "  <tbody>\n",
       "    <tr>\n",
       "      <th>0</th>\n",
       "      <td>when modi promised “minimum government maximum...</td>\n",
       "      <td>-1.0</td>\n",
       "      <td>modi promised minimum government maximum gover...</td>\n",
       "      <td>[modi, promised, minimum, government, maximum,...</td>\n",
       "    </tr>\n",
       "    <tr>\n",
       "      <th>1</th>\n",
       "      <td>talk all the nonsense and continue all the dra...</td>\n",
       "      <td>0.0</td>\n",
       "      <td>talk nonsense continue drama vote modi</td>\n",
       "      <td>[talk, nonsense, continue, drama, vote, modi]</td>\n",
       "    </tr>\n",
       "    <tr>\n",
       "      <th>2</th>\n",
       "      <td>what did just say vote for modi  welcome bjp t...</td>\n",
       "      <td>1.0</td>\n",
       "      <td>say vote modi welcome bjp told rahul main camp...</td>\n",
       "      <td>[say, vote, modi, welcome, bjp, told, rahul, m...</td>\n",
       "    </tr>\n",
       "    <tr>\n",
       "      <th>3</th>\n",
       "      <td>asking his supporters prefix chowkidar their n...</td>\n",
       "      <td>1.0</td>\n",
       "      <td>asking supporters prefix chowkidar names modi ...</td>\n",
       "      <td>[asking, supporters, prefix, chowkidar, names,...</td>\n",
       "    </tr>\n",
       "    <tr>\n",
       "      <th>4</th>\n",
       "      <td>answer who among these the most powerful world...</td>\n",
       "      <td>1.0</td>\n",
       "      <td>answer among powerful world leader today trump...</td>\n",
       "      <td>[answer, among, powerful, world, leader, today...</td>\n",
       "    </tr>\n",
       "  </tbody>\n",
       "</table>\n",
       "</div>"
      ],
      "text/plain": [
       "                                          clean_text  category  \\\n",
       "0  when modi promised “minimum government maximum...      -1.0   \n",
       "1  talk all the nonsense and continue all the dra...       0.0   \n",
       "2  what did just say vote for modi  welcome bjp t...       1.0   \n",
       "3  asking his supporters prefix chowkidar their n...       1.0   \n",
       "4  answer who among these the most powerful world...       1.0   \n",
       "\n",
       "                                        cleaned_text  \\\n",
       "0  modi promised minimum government maximum gover...   \n",
       "1             talk nonsense continue drama vote modi   \n",
       "2  say vote modi welcome bjp told rahul main camp...   \n",
       "3  asking supporters prefix chowkidar names modi ...   \n",
       "4  answer among powerful world leader today trump...   \n",
       "\n",
       "                                              tokens  \n",
       "0  [modi, promised, minimum, government, maximum,...  \n",
       "1      [talk, nonsense, continue, drama, vote, modi]  \n",
       "2  [say, vote, modi, welcome, bjp, told, rahul, m...  \n",
       "3  [asking, supporters, prefix, chowkidar, names,...  \n",
       "4  [answer, among, powerful, world, leader, today...  "
      ]
     },
     "execution_count": 11,
     "metadata": {},
     "output_type": "execute_result"
    }
   ],
   "source": [
    "# Tokenization\n",
    "\n",
    "from nltk.tokenize import word_tokenize\n",
    "\n",
    "df['tokens'] = df['cleaned_text'].apply(word_tokenize)\n",
    "df.head()\n"
   ]
  },
  {
   "cell_type": "code",
   "execution_count": 12,
   "id": "0afc3ab2",
   "metadata": {
    "execution": {
     "iopub.execute_input": "2025-01-02T13:56:57.341594Z",
     "iopub.status.busy": "2025-01-02T13:56:57.341270Z",
     "iopub.status.idle": "2025-01-02T13:56:57.353154Z",
     "shell.execute_reply": "2025-01-02T13:56:57.352163Z"
    },
    "id": "FqoM7XpIzDzT",
    "outputId": "5a9b00f5-ac3b-4103-87e8-6c290367d52d",
    "papermill": {
     "duration": 0.021583,
     "end_time": "2025-01-02T13:56:57.354779",
     "exception": false,
     "start_time": "2025-01-02T13:56:57.333196",
     "status": "completed"
    },
    "tags": []
   },
   "outputs": [
    {
     "data": {
      "text/html": [
       "<div>\n",
       "<style scoped>\n",
       "    .dataframe tbody tr th:only-of-type {\n",
       "        vertical-align: middle;\n",
       "    }\n",
       "\n",
       "    .dataframe tbody tr th {\n",
       "        vertical-align: top;\n",
       "    }\n",
       "\n",
       "    .dataframe thead th {\n",
       "        text-align: right;\n",
       "    }\n",
       "</style>\n",
       "<table border=\"1\" class=\"dataframe\">\n",
       "  <thead>\n",
       "    <tr style=\"text-align: right;\">\n",
       "      <th></th>\n",
       "      <th>clean_text</th>\n",
       "      <th>category</th>\n",
       "      <th>tokens</th>\n",
       "    </tr>\n",
       "  </thead>\n",
       "  <tbody>\n",
       "    <tr>\n",
       "      <th>0</th>\n",
       "      <td>when modi promised “minimum government maximum...</td>\n",
       "      <td>-1.0</td>\n",
       "      <td>[modi, promised, minimum, government, maximum,...</td>\n",
       "    </tr>\n",
       "    <tr>\n",
       "      <th>1</th>\n",
       "      <td>talk all the nonsense and continue all the dra...</td>\n",
       "      <td>0.0</td>\n",
       "      <td>[talk, nonsense, continue, drama, vote, modi]</td>\n",
       "    </tr>\n",
       "    <tr>\n",
       "      <th>2</th>\n",
       "      <td>what did just say vote for modi  welcome bjp t...</td>\n",
       "      <td>1.0</td>\n",
       "      <td>[say, vote, modi, welcome, bjp, told, rahul, m...</td>\n",
       "    </tr>\n",
       "    <tr>\n",
       "      <th>3</th>\n",
       "      <td>asking his supporters prefix chowkidar their n...</td>\n",
       "      <td>1.0</td>\n",
       "      <td>[asking, supporters, prefix, chowkidar, names,...</td>\n",
       "    </tr>\n",
       "    <tr>\n",
       "      <th>4</th>\n",
       "      <td>answer who among these the most powerful world...</td>\n",
       "      <td>1.0</td>\n",
       "      <td>[answer, among, powerful, world, leader, today...</td>\n",
       "    </tr>\n",
       "  </tbody>\n",
       "</table>\n",
       "</div>"
      ],
      "text/plain": [
       "                                          clean_text  category  \\\n",
       "0  when modi promised “minimum government maximum...      -1.0   \n",
       "1  talk all the nonsense and continue all the dra...       0.0   \n",
       "2  what did just say vote for modi  welcome bjp t...       1.0   \n",
       "3  asking his supporters prefix chowkidar their n...       1.0   \n",
       "4  answer who among these the most powerful world...       1.0   \n",
       "\n",
       "                                              tokens  \n",
       "0  [modi, promised, minimum, government, maximum,...  \n",
       "1      [talk, nonsense, continue, drama, vote, modi]  \n",
       "2  [say, vote, modi, welcome, bjp, told, rahul, m...  \n",
       "3  [asking, supporters, prefix, chowkidar, names,...  \n",
       "4  [answer, among, powerful, world, leader, today...  "
      ]
     },
     "execution_count": 12,
     "metadata": {},
     "output_type": "execute_result"
    }
   ],
   "source": [
    "df.drop(['cleaned_text' ],axis = 1, inplace=True)\n",
    "df.head()"
   ]
  },
  {
   "cell_type": "code",
   "execution_count": 13,
   "id": "a7c0e73e",
   "metadata": {
    "execution": {
     "iopub.execute_input": "2025-01-02T13:56:57.369919Z",
     "iopub.status.busy": "2025-01-02T13:56:57.369543Z",
     "iopub.status.idle": "2025-01-02T13:56:59.055860Z",
     "shell.execute_reply": "2025-01-02T13:56:59.054755Z"
    },
    "id": "L0Q6GHKC14Um",
    "papermill": {
     "duration": 1.696147,
     "end_time": "2025-01-02T13:56:59.058011",
     "exception": false,
     "start_time": "2025-01-02T13:56:57.361864",
     "status": "completed"
    },
    "tags": []
   },
   "outputs": [],
   "source": [
    "from nltk import pos_tag\n",
    "from nltk.stem import WordNetLemmatizer\n",
    "from collections import defaultdict\n",
    "from nltk.corpus import wordnet as wn\n",
    "\n",
    "lemmatizer = WordNetLemmatizer()\n",
    "\n",
    "tag_map = defaultdict(lambda : wn.NOUN)\n",
    "tag_map['J']: wn.ADJ\n",
    "tag_map['V']: wn.VERB\n",
    "tag_map['R']: wn.ADV"
   ]
  },
  {
   "cell_type": "code",
   "execution_count": 14,
   "id": "6ee8e601",
   "metadata": {
    "execution": {
     "iopub.execute_input": "2025-01-02T13:56:59.073417Z",
     "iopub.status.busy": "2025-01-02T13:56:59.073004Z",
     "iopub.status.idle": "2025-01-02T13:57:01.152000Z",
     "shell.execute_reply": "2025-01-02T13:57:01.150921Z"
    },
    "id": "hmnWVHZpV1lK",
    "outputId": "5bd91fb0-e908-43c3-92dc-8a043cfe4371",
    "papermill": {
     "duration": 2.08851,
     "end_time": "2025-01-02T13:57:01.153760",
     "exception": false,
     "start_time": "2025-01-02T13:56:59.065250",
     "status": "completed"
    },
    "tags": []
   },
   "outputs": [
    {
     "data": {
      "text/html": [
       "<div>\n",
       "<style scoped>\n",
       "    .dataframe tbody tr th:only-of-type {\n",
       "        vertical-align: middle;\n",
       "    }\n",
       "\n",
       "    .dataframe tbody tr th {\n",
       "        vertical-align: top;\n",
       "    }\n",
       "\n",
       "    .dataframe thead th {\n",
       "        text-align: right;\n",
       "    }\n",
       "</style>\n",
       "<table border=\"1\" class=\"dataframe\">\n",
       "  <thead>\n",
       "    <tr style=\"text-align: right;\">\n",
       "      <th></th>\n",
       "      <th>clean_text</th>\n",
       "      <th>category</th>\n",
       "      <th>tokens</th>\n",
       "      <th>lemma</th>\n",
       "    </tr>\n",
       "  </thead>\n",
       "  <tbody>\n",
       "    <tr>\n",
       "      <th>0</th>\n",
       "      <td>when modi promised “minimum government maximum...</td>\n",
       "      <td>-1.0</td>\n",
       "      <td>[modi, promised, minimum, government, maximum,...</td>\n",
       "      <td>[modi, promised, minimum, government, maximum,...</td>\n",
       "    </tr>\n",
       "    <tr>\n",
       "      <th>1</th>\n",
       "      <td>talk all the nonsense and continue all the dra...</td>\n",
       "      <td>0.0</td>\n",
       "      <td>[talk, nonsense, continue, drama, vote, modi]</td>\n",
       "      <td>[talk, nonsense, continue, drama, vote, modi]</td>\n",
       "    </tr>\n",
       "    <tr>\n",
       "      <th>2</th>\n",
       "      <td>what did just say vote for modi  welcome bjp t...</td>\n",
       "      <td>1.0</td>\n",
       "      <td>[say, vote, modi, welcome, bjp, told, rahul, m...</td>\n",
       "      <td>[say, vote, modi, welcome, bjp, told, rahul, m...</td>\n",
       "    </tr>\n",
       "    <tr>\n",
       "      <th>3</th>\n",
       "      <td>asking his supporters prefix chowkidar their n...</td>\n",
       "      <td>1.0</td>\n",
       "      <td>[asking, supporters, prefix, chowkidar, names,...</td>\n",
       "      <td>[asking, supporter, prefix, chowkidar, name, m...</td>\n",
       "    </tr>\n",
       "    <tr>\n",
       "      <th>4</th>\n",
       "      <td>answer who among these the most powerful world...</td>\n",
       "      <td>1.0</td>\n",
       "      <td>[answer, among, powerful, world, leader, today...</td>\n",
       "      <td>[answer, among, powerful, world, leader, today...</td>\n",
       "    </tr>\n",
       "  </tbody>\n",
       "</table>\n",
       "</div>"
      ],
      "text/plain": [
       "                                          clean_text  category  \\\n",
       "0  when modi promised “minimum government maximum...      -1.0   \n",
       "1  talk all the nonsense and continue all the dra...       0.0   \n",
       "2  what did just say vote for modi  welcome bjp t...       1.0   \n",
       "3  asking his supporters prefix chowkidar their n...       1.0   \n",
       "4  answer who among these the most powerful world...       1.0   \n",
       "\n",
       "                                              tokens  \\\n",
       "0  [modi, promised, minimum, government, maximum,...   \n",
       "1      [talk, nonsense, continue, drama, vote, modi]   \n",
       "2  [say, vote, modi, welcome, bjp, told, rahul, m...   \n",
       "3  [asking, supporters, prefix, chowkidar, names,...   \n",
       "4  [answer, among, powerful, world, leader, today...   \n",
       "\n",
       "                                               lemma  \n",
       "0  [modi, promised, minimum, government, maximum,...  \n",
       "1      [talk, nonsense, continue, drama, vote, modi]  \n",
       "2  [say, vote, modi, welcome, bjp, told, rahul, m...  \n",
       "3  [asking, supporter, prefix, chowkidar, name, m...  \n",
       "4  [answer, among, powerful, world, leader, today...  "
      ]
     },
     "execution_count": 14,
     "metadata": {},
     "output_type": "execute_result"
    }
   ],
   "source": [
    "def lemmatize_token_list(token_list):\n",
    "\n",
    "    # creating tagged tokens\n",
    "    tagged_tokens = pos_tag(token_list)\n",
    "    final_words = []\n",
    "\n",
    "    # lemmatization\n",
    "    for i in range(len(token_list)):\n",
    "        token , tag = tagged_tokens[i]\n",
    "        word_final = lemmatizer.lemmatize(token, tag_map[tag[0]])\n",
    "        final_words.append(word_final)\n",
    "\n",
    "    return final_words\n",
    "\n",
    "# applying text preprocessing to tokens column\n",
    "\n",
    "df['lemma'] = df['tokens'].apply(lemmatize_token_list)\n",
    "df.head()"
   ]
  },
  {
   "cell_type": "code",
   "execution_count": 15,
   "id": "26ccff64",
   "metadata": {
    "execution": {
     "iopub.execute_input": "2025-01-02T13:57:01.169250Z",
     "iopub.status.busy": "2025-01-02T13:57:01.168853Z",
     "iopub.status.idle": "2025-01-02T13:57:01.176152Z",
     "shell.execute_reply": "2025-01-02T13:57:01.175276Z"
    },
    "id": "td179SKvbE7h",
    "outputId": "14610617-0bc9-4901-9e28-5dddb38b029a",
    "papermill": {
     "duration": 0.016689,
     "end_time": "2025-01-02T13:57:01.177659",
     "exception": false,
     "start_time": "2025-01-02T13:57:01.160970",
     "status": "completed"
    },
    "tags": []
   },
   "outputs": [
    {
     "data": {
      "text/plain": [
       "0      -1.0\n",
       "1       0.0\n",
       "2       1.0\n",
       "3       1.0\n",
       "4       1.0\n",
       "       ... \n",
       "1995    0.0\n",
       "1996    0.0\n",
       "1997    1.0\n",
       "1998    1.0\n",
       "1999    1.0\n",
       "Name: category, Length: 1999, dtype: float64"
      ]
     },
     "execution_count": 15,
     "metadata": {},
     "output_type": "execute_result"
    }
   ],
   "source": [
    "y = df['category']\n",
    "y"
   ]
  },
  {
   "cell_type": "code",
   "execution_count": 16,
   "id": "488e2d48",
   "metadata": {
    "execution": {
     "iopub.execute_input": "2025-01-02T13:57:01.195574Z",
     "iopub.status.busy": "2025-01-02T13:57:01.195248Z",
     "iopub.status.idle": "2025-01-02T13:57:01.204593Z",
     "shell.execute_reply": "2025-01-02T13:57:01.203619Z"
    },
    "id": "xsTE-E7uUNRz",
    "outputId": "16b23931-f775-4010-876a-293f0b5dd8ed",
    "papermill": {
     "duration": 0.019609,
     "end_time": "2025-01-02T13:57:01.205999",
     "exception": false,
     "start_time": "2025-01-02T13:57:01.186390",
     "status": "completed"
    },
    "tags": []
   },
   "outputs": [
    {
     "data": {
      "text/plain": [
       "0       modi promised minimum government maximum gover...\n",
       "1                  talk nonsense continue drama vote modi\n",
       "2       say vote modi welcome bjp told rahul main camp...\n",
       "3       asking supporter prefix chowkidar name modi gr...\n",
       "4       answer among powerful world leader today trump...\n",
       "                              ...                        \n",
       "1995           eam decided criticise bullshit rd may else\n",
       "1996    modi meeting andhra pradesh march april modi m...\n",
       "1997    one vote make difference anil kapoor answer mo...\n",
       "1998               yes want see movie great narendra modi\n",
       "1999    document reveal modi javadekars war india envi...\n",
       "Name: lemma, Length: 1999, dtype: object"
      ]
     },
     "execution_count": 16,
     "metadata": {},
     "output_type": "execute_result"
    }
   ],
   "source": [
    "X = df.lemma\n",
    "\n",
    "def join_func(X):\n",
    "    text = X\n",
    "    next_text = ' '.join(text)\n",
    "    return next_text\n",
    "\n",
    "X = X.apply(join_func)\n",
    "X"
   ]
  },
  {
   "cell_type": "code",
   "execution_count": 17,
   "id": "9b31cb4c",
   "metadata": {
    "execution": {
     "iopub.execute_input": "2025-01-02T13:57:01.221642Z",
     "iopub.status.busy": "2025-01-02T13:57:01.221310Z",
     "iopub.status.idle": "2025-01-02T13:57:01.229730Z",
     "shell.execute_reply": "2025-01-02T13:57:01.228769Z"
    },
    "id": "UY4GvQ_ZBtQM",
    "papermill": {
     "duration": 0.017934,
     "end_time": "2025-01-02T13:57:01.231204",
     "exception": false,
     "start_time": "2025-01-02T13:57:01.213270",
     "status": "completed"
    },
    "tags": []
   },
   "outputs": [],
   "source": [
    "from sklearn.preprocessing import LabelEncoder\n",
    "from sklearn.feature_extraction.text import TfidfVectorizer\n",
    "from sklearn import model_selection,svm\n",
    "from sklearn.metrics import accuracy_score\n",
    "from sklearn.model_selection import train_test_split\n",
    "\n",
    "train_X, test_X, train_y , test_y = train_test_split(X, y, test_size = 0.2)"
   ]
  },
  {
   "cell_type": "code",
   "execution_count": 18,
   "id": "a30d0351",
   "metadata": {
    "execution": {
     "iopub.execute_input": "2025-01-02T13:57:01.247324Z",
     "iopub.status.busy": "2025-01-02T13:57:01.246918Z",
     "iopub.status.idle": "2025-01-02T13:57:01.308398Z",
     "shell.execute_reply": "2025-01-02T13:57:01.307365Z"
    },
    "id": "yV_VcjufbPlO",
    "outputId": "f2cf45d9-8475-4409-9ed9-d43175fc1ec4",
    "papermill": {
     "duration": 0.071178,
     "end_time": "2025-01-02T13:57:01.310054",
     "exception": false,
     "start_time": "2025-01-02T13:57:01.238876",
     "status": "completed"
    },
    "tags": []
   },
   "outputs": [
    {
     "data": {
      "text/plain": [
       "(400, 1000)"
      ]
     },
     "execution_count": 18,
     "metadata": {},
     "output_type": "execute_result"
    }
   ],
   "source": [
    "tfidf_func = TfidfVectorizer(max_features=1000)\n",
    "X_train_tfidf = tfidf_func.fit_transform(train_X)\n",
    "X_test_tfidf = tfidf_func.transform(test_X)\n",
    "X_test_tfidf.shape"
   ]
  },
  {
   "cell_type": "code",
   "execution_count": 19,
   "id": "90d7edbb",
   "metadata": {
    "execution": {
     "iopub.execute_input": "2025-01-02T13:57:01.325865Z",
     "iopub.status.busy": "2025-01-02T13:57:01.325544Z",
     "iopub.status.idle": "2025-01-02T13:57:01.666912Z",
     "shell.execute_reply": "2025-01-02T13:57:01.665891Z"
    },
    "id": "JrEfN0ex3sp0",
    "outputId": "eecf273b-247b-4913-d07b-1bcbd9789fe1",
    "papermill": {
     "duration": 0.351257,
     "end_time": "2025-01-02T13:57:01.668644",
     "exception": false,
     "start_time": "2025-01-02T13:57:01.317387",
     "status": "completed"
    },
    "tags": []
   },
   "outputs": [
    {
     "data": {
      "text/plain": [
       "array([ 0.,  1.,  1., -1.,  0.,  0.,  1.,  1.,  1.,  0.,  0.,  0.,  1.,\n",
       "        1.,  0.,  1.,  1.,  0.,  0.,  0.,  1.,  1.,  1., -1.,  1.,  1.,\n",
       "        1.,  0.,  0., -1., -1.,  0.,  1.,  0.,  0.,  0.,  0.,  0., -1.,\n",
       "        1.,  1.,  0.,  1.,  0.,  1.,  1.,  1.,  0.,  1.,  1.,  1.,  1.,\n",
       "        1.,  1.,  0.,  1.,  0.,  1.,  1.,  0., -1.,  0., -1.,  1.,  0.,\n",
       "       -1.,  1.,  1.,  1., -1.,  0., -1., -1., -1., -1.,  1.,  0.,  0.,\n",
       "        0.,  1., -1.,  1.,  0.,  1.,  0.,  1.,  1.,  1.,  0.,  1.,  1.,\n",
       "        1.,  0.,  0.,  1.,  1.,  1.,  0.,  1.,  1.,  0.,  1.,  0.,  0.,\n",
       "        1.,  0., -1.,  1.,  0.,  1.,  1.,  0., -1.,  1.,  0.,  1.,  0.,\n",
       "        1., -1.,  1.,  0.,  1., -1.,  0.,  0.,  1.,  1.,  1.,  0.,  0.,\n",
       "        1.,  0.,  0.,  0.,  1.,  1.,  1.,  0.,  1.,  0., -1.,  0.,  1.,\n",
       "        0.,  1.,  0.,  1.,  0.,  1.,  1.,  0.,  1.,  1.,  1.,  0.,  1.,\n",
       "        0., -1.,  0.,  1.,  1.,  0.,  1.,  0.,  1.,  0.,  1., -1., -1.,\n",
       "        1.,  1.,  0.,  1., -1.,  0., -1.,  1.,  1.,  1.,  0., -1.,  0.,\n",
       "        0.,  1.,  1.,  0.,  1.,  0.,  0.,  1.,  1.,  1.,  1.,  0.,  1.,\n",
       "        0.,  1.,  0.,  1., -1., -1.,  1.,  0., -1.,  0.,  0.,  0., -1.,\n",
       "       -1.,  1.,  1.,  1.,  0.,  0.,  1.,  1.,  0.,  0., -1.,  1.,  1.,\n",
       "        1., -1.,  0.,  1.,  1.,  0.,  1.,  1.,  0., -1.,  1.,  0.,  1.,\n",
       "        0.,  0.,  0.,  1.,  1.,  0.,  0.,  1.,  0., -1.,  0.,  1., -1.,\n",
       "        0.,  0.,  1.,  0.,  0.,  0.,  1.,  0.,  1.,  0.,  0.,  1.,  0.,\n",
       "        1.,  0.,  0.,  1.,  0.,  1., -1.,  1.,  1.,  1.,  1.,  1.,  1.,\n",
       "       -1.,  1., -1.,  1.,  0.,  1.,  1.,  1.,  0.,  0.,  0.,  0.,  1.,\n",
       "        1.,  0.,  1.,  0.,  1.,  1., -1.,  0.,  0.,  1.,  0.,  0., -1.,\n",
       "        1.,  1., -1., -1.,  1.,  0.,  0.,  1.,  1.,  0.,  1.,  1.,  0.,\n",
       "        1.,  0.,  1.,  1.,  0.,  0.,  1.,  1.,  1.,  1.,  1.,  0., -1.,\n",
       "        1.,  0.,  1.,  1., -1., -1.,  0.,  0.,  1.,  1.,  1., -1.,  1.,\n",
       "        1.,  1.,  1.,  1.,  1.,  1.,  0.,  0.,  1.,  1.,  0.,  0., -1.,\n",
       "        0.,  0.,  1.,  1.,  1.,  1.,  1.,  0.,  1.,  1.,  1., -1.,  1.,\n",
       "        0.,  1.,  1.,  1.,  0.,  1.,  1.,  0.,  1.,  1.,  1., -1.,  1.,\n",
       "        0.,  0.,  1.,  0.,  1.,  1.,  0.,  1.,  1.,  1.,  0.,  0.,  1.,\n",
       "       -1.,  0., -1.,  1.,  1.,  1., -1.,  0.,  1.,  0.])"
      ]
     },
     "execution_count": 19,
     "metadata": {},
     "output_type": "execute_result"
    }
   ],
   "source": [
    "SVM = svm.SVC(C=1.0 , kernel='linear', degree=3 , gamma='auto')\n",
    "SVM.fit(X_train_tfidf,train_y)\n",
    "\n",
    "preds = SVM.predict(X_test_tfidf)\n",
    "preds"
   ]
  },
  {
   "cell_type": "code",
   "execution_count": 20,
   "id": "075498fd",
   "metadata": {
    "execution": {
     "iopub.execute_input": "2025-01-02T13:57:01.685587Z",
     "iopub.status.busy": "2025-01-02T13:57:01.685255Z",
     "iopub.status.idle": "2025-01-02T13:57:01.691470Z",
     "shell.execute_reply": "2025-01-02T13:57:01.690256Z"
    },
    "id": "lYKyGGPf6R0-",
    "outputId": "8638e71b-3cd8-4bb0-c363-9acba65c1122",
    "papermill": {
     "duration": 0.016778,
     "end_time": "2025-01-02T13:57:01.693315",
     "exception": false,
     "start_time": "2025-01-02T13:57:01.676537",
     "status": "completed"
    },
    "tags": []
   },
   "outputs": [
    {
     "name": "stdout",
     "output_type": "stream",
     "text": [
      "SVM Accuracy Score ->  66.25\n"
     ]
    }
   ],
   "source": [
    "print(\"SVM Accuracy Score -> \",accuracy_score(preds, test_y)*100)"
   ]
  }
 ],
 "metadata": {
  "colab": {
   "provenance": []
  },
  "kaggle": {
   "accelerator": "none",
   "dataSources": [
    {
     "datasetId": 1340873,
     "sourceId": 2231927,
     "sourceType": "datasetVersion"
    }
   ],
   "dockerImageVersionId": 30822,
   "isGpuEnabled": false,
   "isInternetEnabled": true,
   "language": "python",
   "sourceType": "notebook"
  },
  "kernelspec": {
   "display_name": "Python 3",
   "language": "python",
   "name": "python3"
  },
  "language_info": {
   "codemirror_mode": {
    "name": "ipython",
    "version": 3
   },
   "file_extension": ".py",
   "mimetype": "text/x-python",
   "name": "python",
   "nbconvert_exporter": "python",
   "pygments_lexer": "ipython3",
   "version": "3.10.12"
  },
  "papermill": {
   "default_parameters": {},
   "duration": 12.922553,
   "end_time": "2025-01-02T13:57:02.723743",
   "environment_variables": {},
   "exception": null,
   "input_path": "__notebook__.ipynb",
   "output_path": "__notebook__.ipynb",
   "parameters": {},
   "start_time": "2025-01-02T13:56:49.801190",
   "version": "2.6.0"
  }
 },
 "nbformat": 4,
 "nbformat_minor": 5
}
